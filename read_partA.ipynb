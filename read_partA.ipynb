{
  "nbformat": 4,
  "nbformat_minor": 0,
  "metadata": {
    "colab": {
      "name": "read_partA.ipynb",
      "provenance": [],
      "collapsed_sections": []
    },
    "kernelspec": {
      "name": "python3",
      "display_name": "Python 3"
    }
  },
  "cells": [
    {
      "cell_type": "code",
      "metadata": {
        "colab": {
          "base_uri": "https://localhost:8080/"
        },
        "id": "LbiV0rPECjln",
        "outputId": "00a4cd2f-e680-4513-94ab-f6b2c3deedea"
      },
      "source": [
        "input_data = \"/content/data_input.txt\"\n",
        "\n",
        "with open(input_data, \"r\") as data:\n",
        "    FileContent = data.read()\n",
        "    print(FileContent)"
      ],
      "execution_count": 19,
      "outputs": [
        {
          "output_type": "stream",
          "text": [
            "0 0 1 1\n",
            "0 1 0 1\n",
            "0 1 1 0\n",
            "3\n",
            "2 2 1\n",
            "-10 -30\n",
            "20 -20\n",
            "20 -20\n",
            "-30\n",
            "20\n",
            "20\n"
          ],
          "name": "stdout"
        }
      ]
    },
    {
      "cell_type": "code",
      "metadata": {
        "colab": {
          "base_uri": "https://localhost:8080/"
        },
        "id": "cOYH5tnh1QXP",
        "outputId": "b611cbcd-a995-4e39-a37f-58007b1dd98c"
      },
      "source": [
        "import numpy as np\n",
        "arr = np.loadtxt(input_data, delimiter='\\n', dtype=str)\n",
        "splitted = arr[0].split()\n",
        "x1 = [int(l) for l in splitted]\n",
        "splitted = arr[1].split()\n",
        "x2 = [int(l) for l in splitted]\n",
        "splitted = arr[2].split()\n",
        "y = [int(l) for l in splitted]\n",
        "n_layer = int(arr[3])\n",
        "splitted1 = arr[4].split()\n",
        "n_neuron = [int(j) for j in splitted1]\n",
        "weight = []\n",
        "# tmp = [int(l) for l in splitted]\n",
        "#     print(tmp)\n",
        "now=5\n",
        "for j in range(n_layer-1):\n",
        "  weight.append([])\n",
        "  for k in range(n_neuron[j]+1):\n",
        "    weight[j].append([])\n",
        "    for l in range(n_neuron[j+1]):\n",
        "      splitted = arr[now].split()\n",
        "      tmp = [int(l) for l in splitted]\n",
        "      weight[j][k].append(tmp[l])\n",
        "    now+=1\n",
        "print(x1)\n",
        "print(x2)\n",
        "print(y)\n",
        "print(n_layer)\n",
        "print(n_neuron)\n",
        "print(weight)"
      ],
      "execution_count": 22,
      "outputs": [
        {
          "output_type": "stream",
          "text": [
            "[0, 0, 1, 1]\n",
            "[0, 1, 0, 1]\n",
            "[0, 1, 1, 0]\n",
            "3\n",
            "[2, 2, 1]\n",
            "[[[-10, -30], [20, -20], [20, -20]], [[-30], [20], [20]]]\n"
          ],
          "name": "stdout"
        }
      ]
    }
  ]
}